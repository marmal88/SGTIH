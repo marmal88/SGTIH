{
 "cells": [
  {
   "cell_type": "code",
   "execution_count": 58,
   "metadata": {},
   "outputs": [],
   "source": [
    "import os\n",
    "import requests\n",
    "import json\n",
    "from dotenv import load_dotenv\n",
    "from typing import Optional\n",
    "import pandas as pd\n",
    "\n",
    "class ApiFunctions:\n",
    "    def __init__(self, language: str):\n",
    "        load_dotenv()\n",
    "        apikey = os.getenv(\"API_KEY\")\n",
    "        self.headers = {\n",
    "            \"Content-Type\": \"application/json\",\n",
    "            \"X-Content-Language\": language,\n",
    "            \"X-API-Key\": apikey,\n",
    "        }\n",
    "\n",
    "    ##### Deals User and Provider API ######\n",
    "\n",
    "    def query_get_deal_types(self) -> list:\n",
    "        \"\"\" Function to get existing deal types\n",
    "        Returns:\n",
    "            list: list of deal types\n",
    "        \"\"\"\n",
    "        query = \"http://api.stb.gov.sg/content/deals/v2/types\"\n",
    "        response = requests.get(query, headers=self.headers)\n",
    "        jsonResponse = response.json()\n",
    "        deal_types = []\n",
    "        for res in jsonResponse[\"data\"]:\n",
    "            deal_types.append(res[\"name\"])\n",
    "\n",
    "        return deal_types\n",
    "\n",
    "    ##### Content User API ######\n",
    "\n",
    "    def list_content(self) -> list:\n",
    "        \"\"\" Function to get list of content categories\n",
    "        Returns:\n",
    "            list: list of content categories\n",
    "        \"\"\"\n",
    "        query = \"https://api.stb.gov.sg/content/common/v2/datasets\"\n",
    "        jsonResponse = requests.get(query, headers=self.headers).json()\n",
    "        content_types = []\n",
    "        for res in jsonResponse[\"data\"]:\n",
    "            content_types.append(res)\n",
    "\n",
    "        return content_types\n",
    "\n",
    "    def list_content_types(self, category: str) -> list:\n",
    "        \"\"\" Function to get a list of attraction types within the content category\n",
    "        Args:\n",
    "            category (str): content categories: accommodation, attractions, \n",
    "                            bars_clubs, cruises, events, food_beverages, precincts, \n",
    "                            shops, tours, venues, walking_trails\n",
    "        Returns:\n",
    "            list: list of content categories types\n",
    "        \"\"\"\n",
    "        category = category.strip().replace(' ', '%20')\n",
    "        query = f\"http://api.stb.gov.sg/content/common/v2/types?category={category}\"\n",
    "        \n",
    "        response = requests.get(query, headers=self.headers)\n",
    "        jsonResponse = response.json()\n",
    "        content_types = []\n",
    "        for res in jsonResponse[\"data\"]:\n",
    "            content_types.append(res)\n",
    "\n",
    "        return content_types\n",
    "    \n",
    "    def query_by_keywords_or_uuid(self, content=str, uuid: Optional[str]=None, keyword: Optional[str] = None):\n",
    "        \"\"\"content: [accommodation | attractions | bars-clubs | cruises | events | food-beverages | precincts | shops | tours | venues | walking-trails].\n",
    "        \"\"\"\n",
    "        if uuid is not None:\n",
    "            return self.query_by_uuid(content, uuid)\n",
    "        else:\n",
    "            return self.query_by_keywords(content, keyword)\n",
    "\n",
    "    def query_by_keywords(self, content=str, keyword: Optional[str] = None):\n",
    "        \"\"\" query_by_keywords _summary_\n",
    "        Args:\n",
    "            content (_type_, optional): _description_. Defaults to str.\n",
    "            keyword (Optional[str], optional): _description_. Defaults to None.\n",
    "        Returns:\n",
    "            TypeJSON: _description_\n",
    "        \"\"\"\n",
    "        keyword = keyword.strip().replace(' ', '%20')\n",
    "        query = f\"https://api.stb.gov.sg/content/{content}/v2/search?searchType=keyword&searchValues={keyword}\"\n",
    "        response = requests.get(query, headers=self.headers)\n",
    "        jsonResponse = response.json()\n",
    "\n",
    "        return jsonResponse\n",
    "\n",
    "    def query_by_uuid(self, content=str, uuid: Optional[str]=None):\n",
    "        \"\"\"query_by_uuid _summary_\n",
    "        Args:\n",
    "            content (_type_, optional): _description_. Defaults to str.\n",
    "            uuid (Optional[str], optional): _description_. Defaults to None.\n",
    "        Returns:\n",
    "            TypeJSON: _description_\n",
    "        \"\"\"\n",
    "        query = f\"https://api.stb.gov.sg/content/{content}/v2/details/{uuid}\"\n",
    "        response = requests.get(query, headers=self.headers)\n",
    "        jsonResponse = response.json()\n",
    "\n",
    "        return jsonResponse\n",
    "\n",
    "\n",
    "        # df = pd.json_normalize(jsonResponse['data'])\n",
    "\n",
    "\n",
    "# content category: [accommodation | attractions | bars_clubs | cruises | events | food_beverages | precincts | shops | tours | venues | walking_trails]."
   ]
  },
  {
   "cell_type": "code",
   "execution_count": 59,
   "metadata": {},
   "outputs": [
    {
     "data": {
      "text/plain": [
       "['Bars', 'Clubs', 'Others']"
      ]
     },
     "execution_count": 59,
     "metadata": {},
     "output_type": "execute_result"
    }
   ],
   "source": [
    "# df = ApiFunctions(\"en\").query_by_keywords_or_uuid('food-beverages', keyword=\"east coast park\", )\n",
    "# ApiFunctions(\"en\").query_get_content_types('food-beverages', 'malay food')\n",
    "ApiFunctions(\"en\").list_content_types('bars_clubs')"
   ]
  },
  {
   "cell_type": "code",
   "execution_count": 42,
   "metadata": {},
   "outputs": [
    {
     "data": {
      "text/plain": [
       "[{'uuid': '101c6a68c41659b42719641da5bb67be97a',\n",
       "  'url': '',\n",
       "  'libraryUuid': '104a49599e1988746b7b354a43a246f4afc',\n",
       "  'primaryFileMediumUuid': '107ae292b0b62864bd196adaf9ab08596f9'},\n",
       " {'uuid': '1019de8b96a30a343e9ab5ca7df0ca2b831',\n",
       "  'url': '',\n",
       "  'libraryUuid': '104dce9b60d235c40c6a8fb375b7bd02853',\n",
       "  'primaryFileMediumUuid': '1076cdd639eb90947019604bf0f415f4351'},\n",
       " {'uuid': '1011d42dbf8e36144c4a094b48c28f04917',\n",
       "  'url': '',\n",
       "  'libraryUuid': '104a242ed29ab7f487fb0b7696f08d9fbbf',\n",
       "  'primaryFileMediumUuid': '107f18c16be54a949fc9680d451efbfd1a5'},\n",
       " {'uuid': '1018f8b679c1c74448fb2cbc662db4aaec7',\n",
       "  'url': '',\n",
       "  'libraryUuid': '104f97c44ffcc554e6ca67184da9563bc2c',\n",
       "  'primaryFileMediumUuid': '101251501ae4d5b414687f1ad4a7c6f2fe9'}]"
      ]
     },
     "execution_count": 42,
     "metadata": {},
     "output_type": "execute_result"
    }
   ],
   "source": [
    "df.iloc[0,:][\"images\"]"
   ]
  },
  {
   "cell_type": "code",
   "execution_count": null,
   "metadata": {},
   "outputs": [],
   "source": []
  }
 ],
 "metadata": {
  "kernelspec": {
   "display_name": "aiap-hdb-mlops",
   "language": "python",
   "name": "python3"
  },
  "language_info": {
   "codemirror_mode": {
    "name": "ipython",
    "version": 3
   },
   "file_extension": ".py",
   "mimetype": "text/x-python",
   "name": "python",
   "nbconvert_exporter": "python",
   "pygments_lexer": "ipython3",
   "version": "3.8.13"
  },
  "orig_nbformat": 4,
  "vscode": {
   "interpreter": {
    "hash": "f06fb6bc3858e2a00dcd197837ee16db6bab3d9177eb1aa8cbc9867de524b615"
   }
  }
 },
 "nbformat": 4,
 "nbformat_minor": 2
}
